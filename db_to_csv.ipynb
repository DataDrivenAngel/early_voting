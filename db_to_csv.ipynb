{
 "cells": [
  {
   "cell_type": "code",
   "execution_count": 1,
   "metadata": {},
   "outputs": [],
   "source": [
    "import pandas as pd\n",
    "import sqlite3 as db\n",
    "import datetime"
   ]
  },
  {
   "cell_type": "code",
   "execution_count": 2,
   "metadata": {},
   "outputs": [],
   "source": [
    "con = db.connect('scrape_db.db')"
   ]
  },
  {
   "cell_type": "code",
   "execution_count": 3,
   "metadata": {},
   "outputs": [],
   "source": [
    "df = pd.read_sql(\"SELECT * FROM scrape\", con)"
   ]
  },
  {
   "cell_type": "code",
   "execution_count": 4,
   "metadata": {},
   "outputs": [],
   "source": [
    "df['timestamp'] = df['timestamp'].map(lambda x: datetime.datetime.fromtimestamp(x))"
   ]
  },
  {
   "cell_type": "code",
   "execution_count": 5,
   "metadata": {},
   "outputs": [
    {
     "data": {
      "text/html": [
       "<div>\n",
       "<style scoped>\n",
       "    .dataframe tbody tr th:only-of-type {\n",
       "        vertical-align: middle;\n",
       "    }\n",
       "\n",
       "    .dataframe tbody tr th {\n",
       "        vertical-align: top;\n",
       "    }\n",
       "\n",
       "    .dataframe thead th {\n",
       "        text-align: right;\n",
       "    }\n",
       "</style>\n",
       "<table border=\"1\" class=\"dataframe\">\n",
       "  <thead>\n",
       "    <tr style=\"text-align: right;\">\n",
       "      <th></th>\n",
       "      <th>index</th>\n",
       "      <th>Location Name</th>\n",
       "      <th>Address</th>\n",
       "      <th>City</th>\n",
       "      <th>Zip Code</th>\n",
       "      <th>Wait Time(Mins)</th>\n",
       "      <th>Map</th>\n",
       "      <th>timestamp</th>\n",
       "    </tr>\n",
       "  </thead>\n",
       "  <tbody>\n",
       "    <tr>\n",
       "      <th>0</th>\n",
       "      <td>0</td>\n",
       "      <td>WHEATON REC CENTER</td>\n",
       "      <td>11701 Georgia Ave</td>\n",
       "      <td>Wheaton</td>\n",
       "      <td>20902</td>\n",
       "      <td>0.0</td>\n",
       "      <td>Map link</td>\n",
       "      <td>2020-10-26 13:27:12.373124</td>\n",
       "    </tr>\n",
       "    <tr>\n",
       "      <th>1</th>\n",
       "      <td>1</td>\n",
       "      <td>DAMASCUS REC CENTER</td>\n",
       "      <td>25520 Oak Dr</td>\n",
       "      <td>Damascus</td>\n",
       "      <td>20872</td>\n",
       "      <td>10.0</td>\n",
       "      <td>Map link</td>\n",
       "      <td>2020-10-26 13:27:12.373124</td>\n",
       "    </tr>\n",
       "    <tr>\n",
       "      <th>2</th>\n",
       "      <td>2</td>\n",
       "      <td>POTOMAC REC CENTER</td>\n",
       "      <td>11315 Falls Rd</td>\n",
       "      <td>Potomac</td>\n",
       "      <td>20854</td>\n",
       "      <td>10.0</td>\n",
       "      <td>Map link</td>\n",
       "      <td>2020-10-26 13:27:12.373124</td>\n",
       "    </tr>\n",
       "    <tr>\n",
       "      <th>3</th>\n",
       "      <td>3</td>\n",
       "      <td>SILVER SPRING CIVIC BUILDING</td>\n",
       "      <td>1 Veterans Pl</td>\n",
       "      <td>Silver Spring</td>\n",
       "      <td>20910</td>\n",
       "      <td>10.0</td>\n",
       "      <td>Map link</td>\n",
       "      <td>2020-10-26 13:27:12.373124</td>\n",
       "    </tr>\n",
       "    <tr>\n",
       "      <th>4</th>\n",
       "      <td>4</td>\n",
       "      <td>GERMANTOWN RECREATION CENTER</td>\n",
       "      <td>18905 Kingsview Rd</td>\n",
       "      <td>Germantown</td>\n",
       "      <td>20874</td>\n",
       "      <td>16.0</td>\n",
       "      <td>Map link</td>\n",
       "      <td>2020-10-26 13:27:12.373124</td>\n",
       "    </tr>\n",
       "  </tbody>\n",
       "</table>\n",
       "</div>"
      ],
      "text/plain": [
       "   index                 Location Name             Address           City  \\\n",
       "0      0            WHEATON REC CENTER   11701 Georgia Ave        Wheaton   \n",
       "1      1           DAMASCUS REC CENTER        25520 Oak Dr       Damascus   \n",
       "2      2            POTOMAC REC CENTER      11315 Falls Rd        Potomac   \n",
       "3      3  SILVER SPRING CIVIC BUILDING       1 Veterans Pl  Silver Spring   \n",
       "4      4  GERMANTOWN RECREATION CENTER  18905 Kingsview Rd     Germantown   \n",
       "\n",
       "   Zip Code  Wait Time(Mins)       Map                  timestamp  \n",
       "0     20902              0.0  Map link 2020-10-26 13:27:12.373124  \n",
       "1     20872             10.0  Map link 2020-10-26 13:27:12.373124  \n",
       "2     20854             10.0  Map link 2020-10-26 13:27:12.373124  \n",
       "3     20910             10.0  Map link 2020-10-26 13:27:12.373124  \n",
       "4     20874             16.0  Map link 2020-10-26 13:27:12.373124  "
      ]
     },
     "execution_count": 5,
     "metadata": {},
     "output_type": "execute_result"
    }
   ],
   "source": [
    "df.head()"
   ]
  },
  {
   "cell_type": "code",
   "execution_count": null,
   "metadata": {},
   "outputs": [],
   "source": [
    "df.to_csv(\"early_voting.csv\")"
   ]
  }
 ],
 "metadata": {
  "kernelspec": {
   "display_name": "Python 3",
   "language": "python",
   "name": "python3"
  },
  "language_info": {
   "codemirror_mode": {
    "name": "ipython",
    "version": 3
   },
   "file_extension": ".py",
   "mimetype": "text/x-python",
   "name": "python",
   "nbconvert_exporter": "python",
   "pygments_lexer": "ipython3",
   "version": "3.8.2"
  }
 },
 "nbformat": 4,
 "nbformat_minor": 4
}
